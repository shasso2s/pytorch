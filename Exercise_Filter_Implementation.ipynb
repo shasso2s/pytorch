{
  "nbformat": 4,
  "nbformat_minor": 0,
  "metadata": {
    "kernelspec": {
      "display_name": "Python 3",
      "language": "python",
      "name": "python3"
    },
    "language_info": {
      "codemirror_mode": {
        "name": "ipython",
        "version": 3
      },
      "file_extension": ".py",
      "mimetype": "text/x-python",
      "name": "python",
      "nbconvert_exporter": "python",
      "pygments_lexer": "ipython3",
      "version": "3.6.8"
    },
    "colab": {
      "name": "Exercise_Filter_Implementation.ipynb",
      "provenance": [],
      "collapsed_sections": [],
      "include_colab_link": true
    }
  },
  "cells": [
    {
      "cell_type": "markdown",
      "metadata": {
        "id": "view-in-github",
        "colab_type": "text"
      },
      "source": [
        "<a href=\"https://colab.research.google.com/github/shasso2s/pytorch/blob/main/Exercise_Filter_Implementation.ipynb\" target=\"_parent\"><img src=\"https://colab.research.google.com/assets/colab-badge.svg\" alt=\"Open In Colab\"/></a>"
      ]
    },
    {
      "cell_type": "markdown",
      "metadata": {
        "id": "adwGdaeAoYfh"
      },
      "source": [
        "\n",
        "**Idea:** \n",
        "\n",
        "low_from_directory() verwendet die Verzeichnisstruktur, um Dateien zu finden und zu lesen. Sie liest manuell alle Dateien aus dem Verzeichnis und speichert Dateinamen und Klassen in einem Python-Generator. Während des Trainings/der Inferenz wird der Generator aufgerufen, um die Dateinamen abzurufen, und dann werden die entsprechenden Bilder gelesen, ergänzt und für das Training/die Inferenz verwendet. Eine andere Idee ist es, bei der Erstellung des Generators in die Tiefe zu gehen (siehe Ref. 4) und nur die gefilterten Bilder an den Generator zu übergeben. Dies sollte langsam sein, aber keinen Speicherplatz beanspruchen. Diese Änderung wird auch nur einmal während des train_image_generator ausgeführt.\n",
        "\n",
        "Die Idee hinter dieser Implementierung ist es, tief in den Generator hineinzugehen (ref 4) und nur die gefilterten Bilder an den Generator zu übergeben. Dies sollte langsam sein, aber keinen Speicherplatz beanspruchen. Diese Änderung wird auch nur einmal während des train_image_generator ausgeführt.\n",
        "\n",
        "\n",
        "\n",
        "\n",
        "\n",
        "\n",
        "\n",
        "\n"
      ]
    },
    {
      "cell_type": "markdown",
      "metadata": {
        "id": "dcrfwZksAI85"
      },
      "source": [
        "References:\n",
        "\n",
        "1- https://vijayabhaskar96.medium.comtutorial-image-classification-with-keras-flow-from-directory-and-generators-95f75ebe5720\n",
        "\n",
        "2- https://github.com/keras-team/keras/blob/v2.7.0/keras/preprocessing/image.py#L898-L992\n",
        "\n",
        "3- https://github.com/keras-team/keras/blob/v2.7.0/keras/preprocessing/image.py#L323-L410\n",
        "\n",
        "4- https://github.com/keras-team/keras-preprocessing/blob/master/keras_preprocessing/image/directory_iterator.py\n",
        "\n",
        "5- https://gist.github.com/fchollet/0830affa1f7f19fd47b06d4cf89ed44d\n"
      ]
    },
    {
      "cell_type": "markdown",
      "metadata": {
        "id": "TOqf9zlWAIYj"
      },
      "source": [
        "1.   **Filter** function nimmt als parameter **images_filename**\n",
        "2.   die Function gibt einen **booleanwert** zurück basierend auf **some processing()**\n",
        "1.  some_processing() implementiert den Filter wie vom Benutzer gewünscht gibt **1** zurück, wenn der Filter für die Bilddatei **erfolgreich** war und **0**, wenn der Filter für die Bilddatei **fehlschlägt**"
      ]
    },
    {
      "cell_type": "code",
      "metadata": {
        "id": "fpCc2AfiD9Nf"
      },
      "source": [
        "def filter(image_filename):\n",
        "    boolvalue = some_processing(image_filename)\n",
        "    return boolvalue"
      ],
      "execution_count": null,
      "outputs": []
    },
    {
      "cell_type": "markdown",
      "metadata": {
        "id": "zHWmaKCJqXBo"
      },
      "source": [
        "\n",
        "\n",
        "1.   **flow_from_directory()** ruft **DictionaryIterator.init()**,diese liest directories  und ruft files und classes ab\n",
        "2.  **In the init()**, wir wenden filter an , hier werden nur selected imges zugelassen\n",
        "\n",
        "1.   **flow_from_directory()** ruft DirectoryIterator klass konstructor, und gibt filter as parameter\n",
        "\n",
        "\n",
        "1.  **Note**:\n",
        "filter: nimmt  der Dateinamen auf und  für jeden Dateinamen gibt einen booelan wert entsprechend dem Filter zurück\n",
        " \n",
        "\n",
        "\n",
        "\n",
        "\n",
        "\n",
        "\n"
      ]
    },
    {
      "cell_type": "code",
      "metadata": {
        "id": "P55LZO2dD9Nh"
      },
      "source": [
        "def flow_from_directory(self,\n",
        "                          directory,\n",
        "                          filter,\n",
        "                          target_size=(256, 256),\n",
        "                          color_mode='rgb',\n",
        "                          classes=None,\n",
        "                          class_mode='categorical',\n",
        "                          batch_size=32,\n",
        "                          shuffle=True,\n",
        "                          seed=None,\n",
        "                          save_to_dir=None,\n",
        "                          save_prefix='',\n",
        "                          save_format='png',\n",
        "                          follow_links=False,\n",
        "                          subset=None,\n",
        "                          interpolation='nearest'\n",
        "                          ):\n",
        "\n",
        "    return DirectoryIterator(\n",
        "        directory,\n",
        "        filter,\n",
        "        self,\n",
        "        target_size=target_size,\n",
        "        color_mode=color_mode,\n",
        "        classes=classes,\n",
        "        class_mode=class_mode,\n",
        "        data_format=self.data_format,\n",
        "        batch_size=batch_size,\n",
        "        shuffle=shuffle,\n",
        "        seed=seed,\n",
        "        save_to_dir=save_to_dir,\n",
        "        save_prefix=save_prefix,\n",
        "        save_format=save_format,\n",
        "        follow_links=follow_links,\n",
        "        subset=subset,\n",
        "        interpolation=interpolation)"
      ],
      "execution_count": null,
      "outputs": []
    },
    {
      "cell_type": "markdown",
      "metadata": {
        "id": "f5mspbQ2D9Ni"
      },
      "source": [
        "Given below is the class declaration for DirectoryIterator, we have passed on the filter parameter to the constructor. The exact definition of __init__() is given in the cell after this.\n",
        "\n",
        "Original Code:https://github.com/keras-team/keras/blob/v2.7.0/keras/preprocessing/image.py#L323-L410\n",
        "Changes: Lines 2, 28 only\n"
      ]
    },
    {
      "cell_type": "code",
      "metadata": {
        "colab": {
          "base_uri": "https://localhost:8080/",
          "height": 120
        },
        "id": "B9Vs_nVsD9Ni",
        "outputId": "1692380e-a739-430b-943e-93d9ef769487"
      },
      "source": [
        "class DirectoryIterator(image.DirectoryIterator, Iterator):  # pylint: disable=inconsistent-mro\n",
        "    def __init__(self, directory, filter, image_data_generator,\n",
        "               target_size=(256, 256),\n",
        "               color_mode='rgb',\n",
        "               classes=None,\n",
        "               class_mode='categorical',\n",
        "               batch_size=32,\n",
        "               shuffle=True,\n",
        "               seed=None,\n",
        "               data_format=None,\n",
        "               save_to_dir=None,\n",
        "               save_prefix='',\n",
        "               save_format='png',\n",
        "               follow_links=False,\n",
        "               subset=None,\n",
        "               interpolation='nearest',\n",
        "               dtype=None):\n",
        "               \n",
        "  if data_format is None:\n",
        "      data_format = backend.image_data_format()\n",
        "    kwargs = {}\n",
        "  if 'dtype' in tf_inspect.getfullargspec(\n",
        "        image.ImageDataGenerator.__init__)[0]:\n",
        "  if dtype is None:\n",
        "        dtype = backend.floatx()\n",
        "      kwargs['dtype'] = dtype\n",
        "    super(DirectoryIterator, self).__init__(\n",
        "        directory, filter, image_data_generator, \n",
        "        target_size=target_size,\n",
        "        color_mode=color_mode,\n",
        "        classes=classes,\n",
        "        class_mode=class_mode,\n",
        "        batch_size=batch_size,\n",
        "        shuffle=shuffle,\n",
        "        seed=seed,\n",
        "        data_format=data_format,\n",
        "        save_to_dir=save_to_dir,\n",
        "        save_prefix=save_prefix,\n",
        "        save_format=save_format,\n",
        "        follow_links=follow_links,\n",
        "        subset=subset,\n",
        "        interpolation=interpolation,\n",
        "        **kwargs)"
      ],
      "execution_count": null,
      "outputs": [
        {
          "output_type": "execute_result",
          "data": {
            "application/vnd.google.colaboratory.intrinsic+json": {
              "type": "string"
            },
            "text/plain": [
              "\"class DirectoryIterator(image.DirectoryIterator, Iterator):  # pylint: disable=inconsistent-mro\\n    def __init__(self, directory, filter, image_data_generator,\\n               target_size=(256, 256),\\n               color_mode='rgb',\\n               classes=None,\\n               class_mode='categorical',\\n               batch_size=32,\\n               shuffle=True,\\n               seed=None,\\n               data_format=None,\\n               save_to_dir=None,\\n               save_prefix='',\\n               save_format='png',\\n               follow_links=False,\\n               subset=None,\\n               interpolation='nearest',\\n               dtype=None):\\n               \\n  if data_format is None:\\n      data_format = backend.image_data_format()\\n    kwargs = {}\\n  if 'dtype' in tf_inspect.getfullargspec(\\n        image.ImageDataGenerator.__init__)[0]:\\n  if dtype is None:\\n        dtype = backend.floatx()\\n      kwargs['dtype'] = dtype\\n    super(DirectoryIterator, self).__init__(\\n        directory, filter, image_data_generator, \\n        target_size=target_size,\\n        color_mode=color_mode,\\n        classes=classes,\\n        class_mode=class_mode,\\n        batch_size=batch_size,\\n        shuffle=shuffle,\\n        seed=seed,\\n        data_format=data_format,\\n        save_to_dir=save_to_dir,\\n        save_prefix=save_prefix,\\n        save_format=save_format,\\n        follow_links=follow_links,\\n        subset=subset,\\n        interpolation=interpolation,\\n        **kwargs)\""
            ]
          },
          "metadata": {},
          "execution_count": 1
        }
      ]
    },
    {
      "cell_type": "markdown",
      "metadata": {
        "id": "Va3TEdeU77hL"
      },
      "source": [
        "Nachstehend finden Sie die genaue init()-Definition, die die Verarbeitung durchführt. Wir wenden den Filter() auf die Dateinamen an und leiten nur die Dateien weiter, die den Filter() bestehen. \n",
        "\n",
        "Die Dateinamen und Klassen werden mit der Funktion _list_valid_filenames_in_directory() \n",
        "\n",
        "\n",
        "**Original Code**: https://github.com/keras-team/keras-preprocessing/blob/master/keras_preprocessing/image/directory_iterator.py Changes:"
      ]
    },
    {
      "cell_type": "code",
      "metadata": {
        "id": "c6JZ-B9qD9Nk"
      },
      "source": [
        "\n",
        "import multiprocessing.pool\n",
        "import os\n",
        "import numpy as np\n",
        "from .iterator import BatchFromFilesMixin, Iterator\n",
        "from .utils import _list_valid_filenames_in_directory\n",
        "\n",
        "\n",
        "class DirectoryIterator(BatchFromFilesMixin, Iterator):\n",
        "\n",
        "  \"\"\" Argument:\n",
        "              Iterator: liest images aus einer Directory auf disk\n",
        "              Directory : path to diretory um die Bilder zu lesen\n",
        "              image_data_generator: instance von ImageDataGenerator, bentzt für random transformation and normalization\n",
        "              target_size:tuple von integers , für resizing input images\n",
        "              color_mode: \"rgb\",\"rgba\",\"grayscale\"\n",
        "              classes: optinal list von strings , enthältet name von subdirectories zum beispiel[\"Dog\",\"Cat\"]\n",
        "              class_mode: \"binary\" wenn es nur  zwei classes gibt\n",
        "                           \"categorical\": categorical targets,\n",
        "                           \"sparse\" :integer target\n",
        "                           \"input\": targets sind images identish to input images\n",
        "                           \"None\" es gibt kein target image\n",
        "              batch_size: size von batch\n",
        "              shulle: shulle is boolean wert zeigt ob die dataset kann randomly shuffle or not\n",
        "              seed: random seed für shuffling\n",
        "              data_format: string\" channels_firts\" , channels_last\"\n",
        "              save_to_dir_ : diretory für images speichern\n",
        "              save prefix: ist ein string für die gespeicherte directory\n",
        "              save_format: welche format muss der direc gespeichert werden.\n",
        "              follow_links: boolean , links to subdirct\n",
        "              subset: subset von data[train, val]\n",
        "              interpolation: benutzt für resample wenn die target zise ist anders als loaded image\n",
        "              keep_aspect_ratio: boolean , resize images to target size\n",
        "      \"\"\"\"\n",
        "   pe: Dtype to use for generated arrays.\n",
        "\n",
        "    allowed_class_modes = {'categorical', 'binary', 'sparse', 'input', None}\n",
        "\n",
        "    def __new__(cls, *args, **kwargs):\n",
        "        try:\n",
        "            from tensorflow.keras.utils import Sequence as TFSequence\n",
        "            if TFSequence not in cls.__bases__:\n",
        "                cls.__bases__ = cls.__bases__ + (TFSequence,)\n",
        "        except ImportError:\n",
        "            pass\n",
        "        return super(DirectoryIterator, cls).__new__(cls)\n",
        "\n",
        "    def __init__(self,\n",
        "                 directory,\n",
        "                 filter,\n",
        "                 image_data_generator,\n",
        "                 target_size=(256, 256),\n",
        "                 color_mode='rgb',\n",
        "                 classes=None,\n",
        "                 class_mode='categorical',\n",
        "                 batch_size=32,\n",
        "                 shuffle=True,\n",
        "                 seed=None,\n",
        "                 data_format='channels_last',\n",
        "                 save_to_dir=None,\n",
        "                 save_prefix='',\n",
        "                 save_format='png',\n",
        "                 follow_links=False,\n",
        "                 subset=None,\n",
        "                 interpolation='nearest',\n",
        "                 keep_aspect_ratio=False,\n",
        "                 dtype='float32'):\n",
        "        super(DirectoryIterator, self).set_processing_attrs(image_data_generator,\n",
        "                                                            target_size,\n",
        "                                                            color_mode,\n",
        "                                                            data_format,\n",
        "                                                            save_to_dir,\n",
        "                                                            save_prefix,\n",
        "                                                            save_format,\n",
        "                                                            subset,\n",
        "                                                            interpolation,\n",
        "                                                            keep_aspect_ratio)\n",
        "        \n",
        "        \n",
        "        self.directory = directory\n",
        "        self.classes = classes\n",
        "        if class_mode not in self.allowed_class_modes:\n",
        "            raise ValueError('Invalid class_mode: {}; expected one of: {}'\n",
        "                             .format(class_mode, self.allowed_class_modes))\n",
        "        self.class_mode = class_mode\n",
        "        self.dtype = dtype\n",
        "        # First, count the number of samples and classes.\n",
        "        self.samples = 0\n",
        "\n",
        "        if not classes:\n",
        "            classes = []\n",
        "            for subdir in sorted(os.listdir(directory)):\n",
        "                if os.path.isdir(os.path.join(directory, subdir)):\n",
        "                    classes.append(subdir)\n",
        "        self.num_classes = len(classes)\n",
        "        self.class_indices = dict(zip(classes, range(len(classes))))\n",
        "\n",
        "        pool = multiprocessing.pool.ThreadPool()\n",
        "\n",
        "        # Second, build an index of the images\n",
        "        # in the different class subfolders.\n",
        "        results = []\n",
        "        self.filenames = []\n",
        "        i = 0\n",
        "        for dirpath in (os.path.join(directory, subdir) for subdir in classes):\n",
        "            results.append(\n",
        "                pool.apply_async(_list_valid_filenames_in_directory,\n",
        "                                 (dirpath, self.white_list_formats, self.split,\n",
        "                                  self.class_indices, follow_links)))\n",
        "        classes_list = []\n",
        "        for res in results:\n",
        "            classes, filenames = res.get()\n",
        "            filtered_classes=[] \n",
        "            filtered_filenames=[] \n",
        "            i=0\n",
        "            for filename in filtered_filenames:\n",
        "                boolvalue=filter(filename)\n",
        "                if(boolvalue==1):\n",
        "                    filtered_classes.append(classes[i])\n",
        "                    filtered_filenames.append(filename)\n",
        "                i+=1\n",
        "            classes_list.append(filtered_classes)\n",
        "            self.filenames += filtered_filenames\n",
        "        self.samples = len(self.filenames)\n",
        "        self.classes = np.zeros((self.samples,), dtype='int32')\n",
        "        for classes in classes_list:\n",
        "            self.classes[i:i + len(classes)] = classes\n",
        "            i += len(classes)\n",
        "\n",
        "        print('Found %d images belonging to %d classes.' %\n",
        "              (self.samples, self.num_classes))\n",
        "        pool.close()\n",
        "        pool.join()\n",
        "        self._filepaths = [\n",
        "            os.path.join(self.directory, fname) for fname in self.filenames\n",
        "        ]\n",
        "        super(DirectoryIterator, self).__init__(self.samples,\n",
        "                                                batch_size,\n",
        "                                                shuffle,\n",
        "                                                seed)\n",
        "    @property\n",
        "    def filepaths(self):\n",
        "        return self._filepaths\n",
        "\n",
        "    @property\n",
        "    def labels(self):\n",
        "        return self.classes\n",
        "\n",
        "    @property  # mixin needs this property to work\n",
        "    def sample_weight(self):\n",
        "        # no sample weights will be returned\n",
        "        return None"
      ],
      "execution_count": null,
      "outputs": []
    },
    {
      "cell_type": "markdown",
      "metadata": {
        "id": "JPEwnihED9Nm"
      },
      "source": [
        "list_valid_filenames_in_directory() wird verwendet, um alle Klassen und Dateinamen aus dem Verzeichnis zu extrahieren.\n",
        "\n",
        "Original code: https://github.com/keras-team/keras-preprocessing/blob/master/keras_preprocessing/image/utils.py#L218-L261\n",
        "\n"
      ]
    },
    {
      "cell_type": "code",
      "metadata": {
        "id": "XjuVbGEfD9Nn"
      },
      "source": [
        "def _list_valid_filenames_in_directory(directory, white_list_formats, split,\n",
        "                                       class_indices, follow_links):\n",
        "  \n",
        "    \"\"\"Lists paths of files in `subdir` with extensions in `white_list_formats`.\n",
        "    # Arguments\n",
        "        directory: absolute path to a directory containing the files to list.\n",
        "                  The directory name is used as class label and must be a key of `class_indices`.\n",
        "        white_list_formats: set of strings containing allowed extensions for\n",
        "            the files to be counted.\n",
        "        split: tuple of floats (e.g. `(0.2, 0.6)`) to only take into\n",
        "            account a certain fraction of files in each directory.\n",
        "            E.g.: `segment=(0.6, 1.0)` would only account for last 40 percent\n",
        "            of images in each directory.\n",
        "        class_indices: dictionary mapping a class name to its index.\n",
        "        follow_links: boolean, follow symbolic links to subdirectories.\n",
        "    # Returns\n",
        "         classes: a list of class indices\n",
        "         filenames: the path of valid files in `directory`, relative from\n",
        "             `directory`'s parent (e.g., if `directory` is \"dataset/class1\",\n",
        "            the filenames will be\n",
        "            `[\"class1/file1.jpg\", \"class1/file2.jpg\", ...]`).\n",
        "    \"\"\"\n",
        "    dirname = os.path.basename(directory)\n",
        "    if split:\n",
        "        all_files = list(_iter_valid_files(directory, white_list_formats,follow_links))\n",
        "        num_files = len(all_files)\n",
        "        start, stop = int(split[0] * num_files), int(split[1] * num_files)\n",
        "        valid_files = all_files[start: stop]\n",
        "    else:\n",
        "        valid_files = _iter_valid_files(\n",
        "            directory, white_list_formats, follow_links)\n",
        "    classes = []\n",
        "    filenames = []\n",
        "    for root, fname in valid_files:\n",
        "        classes.append(class_indices[dirname])\n",
        "        absolute_path = os.path.join(root, fname)\n",
        "        relative_path = os.path.join(\n",
        "            dirname, os.path.relpath(absolute_path, directory))\n",
        "        filenames.append(relative_path)\n",
        "\n",
        "    return classes, filenames"
      ],
      "execution_count": null,
      "outputs": []
    }
  ]
}